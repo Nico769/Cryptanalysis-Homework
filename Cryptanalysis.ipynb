{
 "cells": [
  {
   "cell_type": "code",
   "execution_count": null,
   "metadata": {},
   "outputs": [],
   "source": [
    "from nltk.util import ngrams\n",
    "from pycipher import SimpleSubstitution\n",
    "from collections import Counter\n",
    "import matplotlib.pyplot as plt\n",
    "import pandas as pd\n",
    "import numpy as np\n",
    "\n",
    "cipher_text = \"\"\n",
    "with open('cipher.txt', 'r') as ct_file:\n",
    "  cipher_text = ct_file.read().replace(\"\\n\", \"\")"
   ]
  },
  {
   "cell_type": "code",
   "execution_count": null,
   "metadata": {},
   "outputs": [],
   "source": [
    "print(cipher_text)"
   ]
  },
  {
   "cell_type": "code",
   "execution_count": null,
   "metadata": {},
   "outputs": [],
   "source": [
    "unigram_cipher = list(cipher_text)"
   ]
  },
  {
   "cell_type": "code",
   "execution_count": null,
   "metadata": {},
   "outputs": [],
   "source": [
    "unigram_counter = Counter()\n",
    "for letter in unigram_cipher:\n",
    "    unigram_counter[letter] += 1"
   ]
  },
  {
   "cell_type": "markdown",
   "metadata": {},
   "source": [
    "The alphabet has **24 symbols**."
   ]
  },
  {
   "cell_type": "code",
   "execution_count": null,
   "metadata": {},
   "outputs": [],
   "source": [
    "alphabet_list = list(unigram_counter)\n",
    "alphabet_list.sort()\n",
    "print(alphabet_list)"
   ]
  },
  {
   "cell_type": "markdown",
   "metadata": {},
   "source": [
    "The **top-5 most common unigrams** are E, T, O, S and A. This suggests that the language of the plaintext might be **English**."
   ]
  },
  {
   "cell_type": "code",
   "execution_count": null,
   "metadata": {},
   "outputs": [],
   "source": [
    "unigram_counter.most_common(5)"
   ]
  },
  {
   "cell_type": "code",
   "execution_count": null,
   "metadata": {},
   "outputs": [],
   "source": [
    "unigram_df = pd.DataFrame.from_dict(unigram_counter, orient='index', columns=[\"unigram_count\"]).sort_index()"
   ]
  },
  {
   "cell_type": "code",
   "execution_count": null,
   "metadata": {},
   "outputs": [],
   "source": [
    "# Columns will be relative frequencies of the letters from the ciphertext and English language.\n",
    "compare_unigram_df = pd.DataFrame()\n",
    "# Read English letters counts from \"War and Peace\"\n",
    "eng_unigram_df = pd.read_csv(\"eng_unigrams.txt\", sep=\" \", names=[\"unigram\", \"unigram_count\"], index_col=\"unigram\").sort_index()\n",
    "compare_unigram_df[\"eng_rel_freq_perc\"] = eng_unigram_df.unigram_count.apply(lambda x: (x / eng_unigram_df.unigram_count.sum()) * 100.0)\n",
    "compare_unigram_df[\"cipher_rel_freq_perc\"] = unigram_df.unigram_count.apply(lambda x: (x / unigram_df.unigram_count.sum()) * 100.0)"
   ]
  },
  {
   "cell_type": "markdown",
   "metadata": {},
   "source": [
    "Since the ciphertext is quite long, the relative frequency distribution of unigrams strongly suggests that the language is English. "
   ]
  },
  {
   "cell_type": "code",
   "execution_count": null,
   "metadata": {},
   "outputs": [],
   "source": [
    "compare_unigram_df.rename(columns={\"eng_rel_freq_perc\": \"English\", \"cipher_rel_freq_perc\": \"Ciphertext\"}, inplace=True)\n",
    "ax = compare_unigram_df.plot(kind=\"bar\", secondary_y=\"eng_rel_freq_perc\", figsize=(15,5), rot=0)\n",
    "ax.set_title(\"Relative frequency distribution of unigrams - English vs Ciphertext\")\n",
    "ax.set_ylabel(\"Percentage\")\n",
    "ax.xaxis.label.set_visible(False)"
   ]
  },
  {
   "cell_type": "markdown",
   "metadata": {},
   "source": [
    "Another tool that might help us **determine the degree of masking** caused by the encryption is the relative frequency distribution of each letter of the alphabet against the most common letter found earlier, E."
   ]
  },
  {
   "cell_type": "code",
   "execution_count": null,
   "metadata": {},
   "outputs": [],
   "source": [
    "unigram_df[\"ranked_freq_perc\"] = unigram_df.unigram_count.apply(lambda x: (x / unigram_df.unigram_count.loc[\"E\"]) * 100.0)\n",
    "unigram_df.sort_values(by=\"ranked_freq_perc\", ascending=False, inplace=True)\n",
    "ax = unigram_df.plot(y=\"ranked_freq_perc\", grid=True, style='.-', figsize=(15,5), legend=None)\n",
    "ax.set_title(\"Characteristic frequency distribution\")\n",
    "ax.set_ylabel(\"Percentage\")\n",
    "ax.set_xlabel(\"Frequency ranked letters\")\n",
    "# Override the x-axis labels inferred by pandas\n",
    "ax.set_xticks(range(unigram_df.shape[0]))\n",
    "ax.set_xticklabels(unigram_df.index.values)\n",
    "ax.grid(axis='x')\n",
    "plt.show()"
   ]
  },
  {
   "cell_type": "markdown",
   "metadata": {},
   "source": [
    "Now let's check how many unique bigrams are in the ciphertext. There are **344 unique bigrams**."
   ]
  },
  {
   "cell_type": "code",
   "execution_count": null,
   "metadata": {},
   "outputs": [],
   "source": [
    "bigram_cipher_list = list(ngrams(cipher_text, 2))\n",
    "unique_bigrams_set = set(bigram_cipher_list)\n",
    "len(unique_bigrams_set)"
   ]
  },
  {
   "cell_type": "code",
   "execution_count": null,
   "metadata": {},
   "outputs": [],
   "source": [
    "bigram_counter = Counter()\n",
    "for bigram in unique_bigrams_set:\n",
    "    for chunk in bigram_cipher_list:\n",
    "        if bigram == chunk:\n",
    "            bigram_str = \"\".join(bigram)\n",
    "            bigram_counter[bigram_str] += 1"
   ]
  },
  {
   "cell_type": "markdown",
   "metadata": {},
   "source": [
    "The **top-10 most common bigrams** are TE, TA, ET, EO, SE, AE, OE, NT, ER, RS."
   ]
  },
  {
   "cell_type": "code",
   "execution_count": null,
   "metadata": {},
   "outputs": [],
   "source": [
    "bigram_counter.most_common(10)"
   ]
  },
  {
   "cell_type": "markdown",
   "metadata": {},
   "source": [
    "Let's also check the frequency distribution of bigrams. To improve readability, we show only bigrams having **relative frequency higher than 1%**"
   ]
  },
  {
   "cell_type": "code",
   "execution_count": null,
   "metadata": {},
   "outputs": [],
   "source": [
    "bigram_df = pd.DataFrame.from_dict(bigram_counter, orient='index', columns=[\"bigram_count\"]).sort_index()\n",
    "bigram_df[\"rel_freq_perc\"] = bigram_df.bigram_count.apply(lambda x: (x / bigram_df.bigram_count.sum()) * 100.0)\n",
    "# Too many bigrams, filter out those having relative frequency lower than 1%\n",
    "high_freq_bigram_df = bigram_df[bigram_df.rel_freq_perc > 1]\n",
    "ax = high_freq_bigram_df.plot(kind=\"bar\", y=\"rel_freq_perc\", legend=None, rot=0)\n",
    "ax.set_title(\"Relative frequency distribution of bigrams\")\n",
    "ax.set_ylabel(\"Percentage\")\n",
    "plt.show()"
   ]
  },
  {
   "cell_type": "markdown",
   "metadata": {},
   "source": [
    "Now let's check how many unique trigrams are in the ciphertext. There are **953 unique trigrams**."
   ]
  },
  {
   "cell_type": "code",
   "execution_count": null,
   "metadata": {},
   "outputs": [],
   "source": [
    "trigram_cipher_list = list(ngrams(cipher_text, 3))\n",
    "unique_trigrams_set = set(trigram_cipher_list)\n",
    "len(unique_trigrams_set)"
   ]
  },
  {
   "cell_type": "code",
   "execution_count": null,
   "metadata": {},
   "outputs": [],
   "source": [
    "trigram_counter = Counter()\n",
    "for trigram in unique_trigrams_set:\n",
    "    for chunk in trigram_cipher_list:\n",
    "        if trigram == chunk:\n",
    "            trigram_str = \"\".join(trigram)\n",
    "            trigram_counter[trigram_str] += 1"
   ]
  },
  {
   "cell_type": "markdown",
   "metadata": {},
   "source": [
    "The **top-10 most common trigrams** are NTE, ERO, EOE, ETE, TEA, TEE, TET, OER, OTE, TAE."
   ]
  },
  {
   "cell_type": "code",
   "execution_count": null,
   "metadata": {},
   "outputs": [],
   "source": [
    "trigram_counter.most_common(20)"
   ]
  },
  {
   "cell_type": "markdown",
   "metadata": {},
   "source": [
    "Let's check how many unique quadgrams are in the ciphertext too. The **top-10 most common quadgrams** are SAEO, EOER, ENTE, HRSH, ATEE, REUN, EAEH, ELMS, DOEH, EINM."
   ]
  },
  {
   "cell_type": "code",
   "execution_count": null,
   "metadata": {},
   "outputs": [],
   "source": [
    "quadgram_cipher_list = list(ngrams(cipher_text, 4))\n",
    "unique_quadgrams_set = set(quadgram_cipher_list)\n",
    "quadgram_counter = Counter()\n",
    "for quadgram in unique_quadgrams_set:\n",
    "    for chunk in quadgram_cipher_list:\n",
    "        if quadgram == chunk:\n",
    "            quadgram_str = \"\".join(quadgram)\n",
    "            quadgram_counter[quadgram_str] += 1\n",
    "quadgram_counter.most_common(10)"
   ]
  },
  {
   "cell_type": "markdown",
   "metadata": {},
   "source": [
    "In the following a simple **Hill Climbing algorithm** is implemented in order to attempt to break the cipher, under the assumption that a monographic substitution cipher is being used to encrypt the ciphertext. Unfortunately, the algorithm gets stuck. Therefore, from our analysis and from this result, we might assume that a transposition cipher is being used."
   ]
  },
  {
   "cell_type": "code",
   "execution_count": null,
   "metadata": {},
   "outputs": [],
   "source": [
    "eng_quadgram_df = pd.read_csv(\"eng_quadgrams.txt\",\n",
    "                              sep=\" \", names=[\"quadgram\", \"quadgram_count\"], index_col=\"quadgram\")\n",
    "# To speed up things, filter out quadgrams having count less than 3 million. \n",
    "eng_quadgram_df = eng_quadgram_df[eng_quadgram_df.quadgram_count > 3000000]\n",
    "eng_quadgram_df[\"log_prob\"] = eng_quadgram_df.quadgram_count.apply(lambda x: np.log(x / eng_quadgram_df.quadgram_count.sum()))"
   ]
  },
  {
   "cell_type": "code",
   "execution_count": null,
   "metadata": {},
   "outputs": [],
   "source": [
    "def compute_quadgrams_similarity(eng_quadgrams_df, cipher_text):\n",
    "    # Extract all the quadgrams with `ngrams` and stringfy them with join \n",
    "    quadgrams_tuple = ( \"\".join(quadgram) for quadgram in set(ngrams(cipher_text, 4)) )\n",
    "    score = 0\n",
    "    floor_log_prob = np.log(0.01 / eng_quadgrams_df.quadgram_count.sum())\n",
    "    for cipher_quadgram in quadgrams_tuple:\n",
    "        if cipher_quadgram in eng_quadgrams_df.index.values:\n",
    "            score += eng_quadgrams_df[\"log_prob\"].loc[cipher_quadgram]\n",
    "        else:\n",
    "            score += floor_log_prob\n",
    "    return score"
   ]
  },
  {
   "cell_type": "code",
   "execution_count": null,
   "metadata": {},
   "outputs": [],
   "source": [
    "def break_mono_substitution(cipher_text, eng_quadgrams_df):\n",
    "    initial_key = list(set(cipher_text))\n",
    "    # Init the best score with a huge negative number\n",
    "    best_score = -np.inf\n",
    "    iteration_counter = 0\n",
    "    parent_key = initial_key.copy()\n",
    "    while True:\n",
    "        iteration_counter += 1        \n",
    "        np.random.shuffle(parent_key)\n",
    "        deciphered_text = SimpleSubstitution(parent_key).decipher(cipher_text)\n",
    "        parent_score = compute_quadgrams_similarity(eng_quadgrams_df, deciphered_text)\n",
    "        child_key_trials_counter = 0\n",
    "        while child_key_trials_counter < 1000:\n",
    "            first_idx = np.random.randint(0, 23)\n",
    "            second_idx = np.random.randint(0, 23)\n",
    "            child_key = parent_key.copy()\n",
    "            child_key[first_idx], child_key[second_idx] = child_key[second_idx], child_key[first_idx]\n",
    "            deciphered_text = SimpleSubstitution(child_key).decipher(cipher_text)\n",
    "            child_score = compute_quadgrams_similarity(eng_quadgrams_df, deciphered_text)\n",
    "            if child_score > parent_score:\n",
    "                parent_score = child_score\n",
    "                parent_key = child_key.copy()\n",
    "                child_key_trials_counter = 0\n",
    "            child_key_trials_counter += 1\n",
    "        if parent_score > best_score:\n",
    "            best_score = parent_score\n",
    "            deciphered_text = SimpleSubstitution(parent_key).decipher(cipher_text)\n",
    "            print(f'(Iter. {iteration_counter}) Best score so far {best_score}')\n",
    "            print(\"Best key {}\".format(\"\".join(parent_key)))\n",
    "            print(f'Plaintext {deciphered_text}')"
   ]
  },
  {
   "cell_type": "code",
   "execution_count": null,
   "metadata": {},
   "outputs": [],
   "source": [
    "# Uncomment to run. WARNING: the CPU load will increase slightly!\n",
    "# break_mono_substitution(cipher_text, eng_quadgram_df)"
   ]
  }
 ],
 "metadata": {
  "kernelspec": {
   "display_name": "Python 3",
   "language": "python",
   "name": "python3"
  },
  "language_info": {
   "codemirror_mode": {
    "name": "ipython",
    "version": 3
   },
   "file_extension": ".py",
   "mimetype": "text/x-python",
   "name": "python",
   "nbconvert_exporter": "python",
   "pygments_lexer": "ipython3",
   "version": "3.7.3"
  }
 },
 "nbformat": 4,
 "nbformat_minor": 2
}
