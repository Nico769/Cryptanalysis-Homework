{
 "cells": [
  {
   "cell_type": "code",
   "execution_count": null,
   "metadata": {},
   "outputs": [],
   "source": [
    "from collections import Counter\n",
    "from nltk.util import ngrams\n",
    "import matplotlib.pyplot as plt\n",
    "import pandas as pd\n",
    "import math\n",
    "\n",
    "cipher_text = \"\"\n",
    "with open('cipher.txt', 'r') as ct_file:\n",
    "  cipher_text = ct_file.read().replace(\"\\n\", \"\")"
   ]
  },
  {
   "cell_type": "code",
   "execution_count": null,
   "metadata": {},
   "outputs": [],
   "source": [
    "print(cipher_text)"
   ]
  },
  {
   "cell_type": "code",
   "execution_count": null,
   "metadata": {},
   "outputs": [],
   "source": [
    "unigram_cipher = list(cipher_text)"
   ]
  },
  {
   "cell_type": "code",
   "execution_count": null,
   "metadata": {},
   "outputs": [],
   "source": [
    "unigram_counter = Counter()\n",
    "for letter in unigram_cipher:\n",
    "    unigram_counter[letter] += 1"
   ]
  },
  {
   "cell_type": "markdown",
   "metadata": {},
   "source": [
    "The alphabet has **24 symbols**."
   ]
  },
  {
   "cell_type": "code",
   "execution_count": null,
   "metadata": {},
   "outputs": [],
   "source": [
    "alphabet_list = list(unigram_counter)\n",
    "alphabet_list.sort()\n",
    "print(alphabet_list)"
   ]
  },
  {
   "cell_type": "markdown",
   "metadata": {},
   "source": [
    "The **top-5 most common unigrams** are E, T, O, S and A. This suggests that the language of the plaintext might be **English**."
   ]
  },
  {
   "cell_type": "code",
   "execution_count": null,
   "metadata": {},
   "outputs": [],
   "source": [
    "unigram_counter.most_common(5)"
   ]
  },
  {
   "cell_type": "code",
   "execution_count": null,
   "metadata": {},
   "outputs": [],
   "source": [
    "unigram_df = pd.DataFrame.from_dict(unigram_counter, orient='index', columns=[\"unigram_count\"]).sort_index()"
   ]
  },
  {
   "cell_type": "code",
   "execution_count": null,
   "metadata": {},
   "outputs": [],
   "source": [
    "# Columns will be relative frequencies of the letters from the ciphertext and English language.\n",
    "compare_unigram_df = pd.DataFrame()\n",
    "# Read English letters counts from \"War and Peace\"\n",
    "eng_unigram_df = pd.read_csv(\"eng_unigrams.txt\", sep=\" \", names=[\"unigram\", \"unigram_count\"], index_col=\"unigram\").sort_index()\n",
    "compare_unigram_df[\"eng_rel_freq_perc\"] = eng_unigram_df.unigram_count.apply(lambda x: (x / eng_unigram_df.unigram_count.sum()) * 100.0)\n",
    "compare_unigram_df[\"cipher_rel_freq_perc\"] = unigram_df.unigram_count.apply(lambda x: (x / unigram_df.unigram_count.sum()) * 100.0)"
   ]
  },
  {
   "cell_type": "markdown",
   "metadata": {},
   "source": [
    "Since the ciphertext is quite long, the relative frequency distribution of unigrams strongly suggests that the language is English. "
   ]
  },
  {
   "cell_type": "code",
   "execution_count": null,
   "metadata": {},
   "outputs": [],
   "source": [
    "compare_unigram_df.rename(columns={\"eng_rel_freq_perc\": \"English\", \"cipher_rel_freq_perc\": \"Ciphertext\"}, inplace=True)\n",
    "ax = compare_unigram_df.plot(kind=\"bar\", secondary_y=\"eng_rel_freq_perc\", figsize=(15,5), rot=0)\n",
    "ax.set_title(\"Relative frequency distribution of unigrams - English vs Ciphertext\")\n",
    "ax.set_ylabel(\"Percentage\")\n",
    "ax.xaxis.label.set_visible(False)"
   ]
  },
  {
   "cell_type": "markdown",
   "metadata": {},
   "source": [
    "Another tool that might help us **determine the degree of masking** caused by the encryption is the relative frequency distribution of each letter of the alphabet against the most common letter found earlier, E."
   ]
  },
  {
   "cell_type": "code",
   "execution_count": null,
   "metadata": {},
   "outputs": [],
   "source": [
    "unigram_df[\"ranked_freq_perc\"] = unigram_df.unigram_count.apply(lambda x: (x / unigram_df.unigram_count.loc[\"E\"]) * 100.0)\n",
    "unigram_df.sort_values(by=\"ranked_freq_perc\", ascending=False, inplace=True)\n",
    "ax = unigram_df.plot(y=\"ranked_freq_perc\", legend=None)\n",
    "ax.set_title(\"Characteristic frequency distribution\")\n",
    "ax.set_ylabel(\"Percentage\")\n",
    "ax.set_xlabel(\"Frequency ranked letters\")\n",
    "# Override the x-axis labels inferred by pandas\n",
    "ax.set_xticks(range(unigram_df.shape[0]))\n",
    "ax.set_xticklabels(unigram_df.index.values)\n",
    "plt.show()"
   ]
  },
  {
   "cell_type": "markdown",
   "metadata": {},
   "source": [
    "Now let's check how many unique bigrams are in the ciphertext. There are **344 unique bigrams**."
   ]
  },
  {
   "cell_type": "code",
   "execution_count": null,
   "metadata": {},
   "outputs": [],
   "source": [
    "bigram_cipher_list = list(ngrams(cipher_text, 2))\n",
    "unique_bigrams_set = set(bigram_cipher_list)\n",
    "len(unique_bigrams_set)"
   ]
  },
  {
   "cell_type": "code",
   "execution_count": null,
   "metadata": {},
   "outputs": [],
   "source": [
    "bigram_counter = Counter()\n",
    "for bigram in unique_bigrams_set:\n",
    "    for chunk in bigram_cipher_list:\n",
    "        if bigram == chunk:\n",
    "            bigram_str = \"\".join(bigram)\n",
    "            bigram_counter[bigram_str] += 1"
   ]
  },
  {
   "cell_type": "markdown",
   "metadata": {},
   "source": [
    "The **top-10 most common bigrams** are TE, TA, ET, EO, SE, AE, OE, NT, ER, RS."
   ]
  },
  {
   "cell_type": "code",
   "execution_count": null,
   "metadata": {},
   "outputs": [],
   "source": [
    "bigram_counter.most_common(10)"
   ]
  },
  {
   "cell_type": "markdown",
   "metadata": {},
   "source": [
    "Let's also check the frequency distribution of bigrams. To improve readability, we show only bigrams having **relative frequency higher than 1%**"
   ]
  },
  {
   "cell_type": "code",
   "execution_count": null,
   "metadata": {},
   "outputs": [],
   "source": [
    "bigram_df = pd.DataFrame.from_dict(bigram_counter, orient='index', columns=[\"bigram_count\"]).sort_index()\n",
    "bigram_df[\"rel_freq_perc\"] = bigram_df.bigram_count.apply(lambda x: (x / bigram_df.bigram_count.sum()) * 100.0)\n",
    "# Too many bigrams, filter out those having relative frequency lower than 1%\n",
    "high_freq_bigram_df = bigram_df[bigram_df.rel_freq_perc > 1]\n",
    "ax = high_freq_bigram_df.plot(kind=\"bar\", y=\"rel_freq_perc\", legend=None, rot=0)\n",
    "ax.set_title(\"Relative frequency distribution of bigrams\")\n",
    "ax.set_ylabel(\"Percentage\")\n",
    "plt.show()"
   ]
  },
  {
   "cell_type": "markdown",
   "metadata": {},
   "source": [
    "Now let's check how many unique trigrams are in the ciphertext. There are **953 unique trigrams**."
   ]
  },
  {
   "cell_type": "code",
   "execution_count": null,
   "metadata": {},
   "outputs": [],
   "source": [
    "trigram_cipher_list = list(ngrams(cipher_text, 3))\n",
    "unique_trigrams_set = set(trigram_cipher_list)\n",
    "len(unique_trigrams_set)"
   ]
  },
  {
   "cell_type": "code",
   "execution_count": null,
   "metadata": {},
   "outputs": [],
   "source": [
    "trigram_counter = Counter()\n",
    "for trigram in unique_trigrams_set:\n",
    "    for chunk in trigram_cipher_list:\n",
    "        if trigram == chunk:\n",
    "            trigram_str = \"\".join(trigram)\n",
    "            trigram_counter[trigram_str] += 1"
   ]
  },
  {
   "cell_type": "markdown",
   "metadata": {},
   "source": [
    "The **top-10 most common trigrams** are NTE, ERO, EOE, ETE, TEA, TEE, TET, OER, OTE, TAE."
   ]
  },
  {
   "cell_type": "code",
   "execution_count": null,
   "metadata": {},
   "outputs": [],
   "source": [
    "trigram_counter.most_common(20)"
   ]
  },
  {
   "cell_type": "code",
   "execution_count": null,
   "metadata": {},
   "outputs": [],
   "source": [
    "quadgram_cipher_list = list(ngrams(cipher_text, 4))\n",
    "unique_quadgrams_set = set(quadgram_cipher_list)\n",
    "quadgram_counter = Counter()\n",
    "for quadgram in unique_quadgrams_set:\n",
    "    for chunk in quadgram_cipher_list:\n",
    "        if quadgram == chunk:\n",
    "            quadgram_str = \"\".join(quadgram)\n",
    "            quadgram_counter[quadgram_str] += 1"
   ]
  },
  {
   "cell_type": "raw",
   "metadata": {},
   "source": [
    "eng_quadgram_df = pd.read_csv(\"eng_quadgrams.txt\",\n",
    "                              sep=\" \", names=[\"quadgram\", \"quadgram_count\"], index_col=\"quadgram\")\n",
    "tot_occur_eng_quadgrams_num = eng_quadgram_df.sum()\n",
    "#eng_log_probs_dict = {}"
   ]
  },
  {
   "cell_type": "raw",
   "metadata": {},
   "source": [
    "log_probs_dict = {}\n",
    "tot_occur_quadgrams_num = sum(quadgram_counter.values())\n",
    "for key in quadgram_counter.keys():\n",
    "    log_probs_dict[key] = math.log(float(quadgram_counter[key]) / tot_occur_quadgrams_num)\n",
    "print(log_probs_dict)"
   ]
  }
 ],
 "metadata": {
  "kernelspec": {
   "display_name": "Python 3",
   "language": "python",
   "name": "python3"
  },
  "language_info": {
   "codemirror_mode": {
    "name": "ipython",
    "version": 3
   },
   "file_extension": ".py",
   "mimetype": "text/x-python",
   "name": "python",
   "nbconvert_exporter": "python",
   "pygments_lexer": "ipython3",
   "version": "3.7.3"
  }
 },
 "nbformat": 4,
 "nbformat_minor": 2
}
